{
 "cells": [
  {
   "cell_type": "code",
   "execution_count": 1,
   "metadata": {},
   "outputs": [],
   "source": [
    "import numpy as np\n",
    "import matplotlib.pyplot as plt\n",
    "from matplotlib.pyplot import cm\n",
    "import matplotlib as mpl\n",
    "from cmcrameri import cm as cmc\n",
    "import pandas as pd\n",
    "import xarray as xr\n",
    "import itertools\n",
    "\n",
    "\n",
    "import pdb\n",
    "import sys\n",
    "sys.path.insert(0, '../lib')\n",
    "sys.path.insert(0, '../src')\n",
    "from scipy.stats import norm, beta, bernoulli\n",
    "\n",
    "\n",
    "import ml_estimation as ml\n",
    "import ml_estimation2 as ml2\n",
    "import model1_plots as mp\n",
    "import model1_explore as me\n",
    "import model1_sim as sim1\n",
    "import Utilities as util"
   ]
  },
  {
   "cell_type": "code",
   "execution_count": 5,
   "metadata": {},
   "outputs": [],
   "source": [
    "## simulation results\n",
    "method = 'main_beta'\n",
    "T = 50\n",
    "N = 40\n",
    "X = xr.open_dataset(f'..\\mod\\model2\\sim\\simulation2_{method}_T{T}_N{N}_image_20201210-15h1457.nc')"
   ]
  },
  {
   "cell_type": "code",
   "execution_count": 4,
   "metadata": {},
   "outputs": [],
   "source": [
    "## original images\n",
    "loc_clean_data = '../data/clean_data/'\n",
    "import pickle\n",
    "from datetime import datetime \n",
    "with open(loc_clean_data + 'clean_dates.txt', 'rb') as f:\n",
    "    dates = pickle.load(f)\n",
    "\n",
    "# print(dates)\n",
    "date = dates.date\n",
    "\n",
    "start_date = datetime.strptime('10-12-2020', '%d-%m-%Y')\n",
    "end_date = datetime.strptime('11-12-2020', '%d-%m-%Y')\n",
    "idx = (start_date < date)  & (date < end_date) \n",
    "\n",
    "dates = dates[idx]\n",
    "\n",
    "file = dates.file_name.loc[0]\n",
    "images = xr.open_dataset(file)\n",
    "images\n",
    "\n",
    "# Only keep points which are in the right area and do contain a wind speed\n",
    "dss = []\n",
    "for file in dates.file_name:\n",
    "    images = xr.open_dataset(file)\n",
    "    dss.append(images)\n",
    "\n",
    "images = xr.concat(dss, 't')\n",
    "\n",
    "invalid =np.sum(images.ct == 0, axis = (1,2))\n",
    "images = images.where(invalid < 10000, drop = True)\n",
    "\n",
    "images = images.rename(dict(x = 'i', y = 'j'))\n",
    "images = images.rename(dict(cth = 'h', cod = 'd'))\n",
    "\n",
    "images['i'] = range(len(images.i))\n",
    "images['j'] = range(len(images.j))\n",
    "images['d'] = np.log(images.d)\n",
    "images['z'] = (['t', 'i', 'j'], np.select([images.ct == 1, (images.ct > 1) & (~np.isnan(images.d)) & (~np.isnan(images.h))], [1, 0], np.nan))\n",
    "# images['z_cloud'] = images.z.where(~np.isnan(images.d) & ~np.isnan(images.h))\n",
    "\n",
    "images['d'] = images.d.where(images.z == 0)\n",
    "images['h'] = images.h.where(images.z == 0)"
   ]
  }
 ],
 "metadata": {
  "kernelspec": {
   "display_name": "Python 3",
   "language": "python",
   "name": "python3"
  },
  "language_info": {
   "codemirror_mode": {
    "name": "ipython",
    "version": 3
   },
   "file_extension": ".py",
   "mimetype": "text/x-python",
   "name": "python",
   "nbconvert_exporter": "python",
   "pygments_lexer": "ipython3",
   "version": "3.8.3"
  }
 },
 "nbformat": 4,
 "nbformat_minor": 4
}
