{
 "cells": [
  {
   "cell_type": "code",
   "execution_count": 8,
   "metadata": {},
   "outputs": [],
   "source": [
    "import pymc3 as pm3\n",
    "import numpy as np\n",
    "import numdifftools as ndt\n",
    "import pandas as pd\n",
    "from scipy.stats import norm\n",
    "import statsmodels.api as sm\n",
    "from statsmodels.base.model import GenericLikelihoodModel\n",
    "from scipy.optimize import minimize\n",
    "import matplotlib.pyplot as plt"
   ]
  },
  {
   "cell_type": "markdown",
   "metadata": {},
   "source": [
    "About Log likelihood estimation : https://rlhick.people.wm.edu/posts/estimating-custom-mle.html"
   ]
  },
  {
   "cell_type": "code",
   "execution_count": 88,
   "metadata": {},
   "outputs": [
    {
     "data": {
      "text/html": [
       "<div>\n",
       "<style scoped>\n",
       "    .dataframe tbody tr th:only-of-type {\n",
       "        vertical-align: middle;\n",
       "    }\n",
       "\n",
       "    .dataframe tbody tr th {\n",
       "        vertical-align: top;\n",
       "    }\n",
       "\n",
       "    .dataframe thead th {\n",
       "        text-align: right;\n",
       "    }\n",
       "</style>\n",
       "<table border=\"1\" class=\"dataframe\">\n",
       "  <thead>\n",
       "    <tr style=\"text-align: right;\">\n",
       "      <th></th>\n",
       "      <th>d2</th>\n",
       "      <th>h1</th>\n",
       "      <th>d1</th>\n",
       "      <th>h1d1</th>\n",
       "      <th>constant</th>\n",
       "    </tr>\n",
       "  </thead>\n",
       "  <tbody>\n",
       "    <tr>\n",
       "      <th>0</th>\n",
       "      <td>45.803215</td>\n",
       "      <td>2.421097</td>\n",
       "      <td>5.335857</td>\n",
       "      <td>12.918628</td>\n",
       "      <td>1</td>\n",
       "    </tr>\n",
       "    <tr>\n",
       "      <th>1</th>\n",
       "      <td>71.635463</td>\n",
       "      <td>4.064556</td>\n",
       "      <td>4.658930</td>\n",
       "      <td>18.936481</td>\n",
       "      <td>1</td>\n",
       "    </tr>\n",
       "    <tr>\n",
       "      <th>2</th>\n",
       "      <td>27.078316</td>\n",
       "      <td>2.082676</td>\n",
       "      <td>3.244444</td>\n",
       "      <td>6.757126</td>\n",
       "      <td>1</td>\n",
       "    </tr>\n",
       "    <tr>\n",
       "      <th>3</th>\n",
       "      <td>40.361317</td>\n",
       "      <td>3.336595</td>\n",
       "      <td>2.613230</td>\n",
       "      <td>8.719290</td>\n",
       "      <td>1</td>\n",
       "    </tr>\n",
       "    <tr>\n",
       "      <th>4</th>\n",
       "      <td>54.404880</td>\n",
       "      <td>2.761036</td>\n",
       "      <td>5.266261</td>\n",
       "      <td>14.540339</td>\n",
       "      <td>1</td>\n",
       "    </tr>\n",
       "  </tbody>\n",
       "</table>\n",
       "</div>"
      ],
      "text/plain": [
       "          d2        h1        d1       h1d1  constant\n",
       "0  45.803215  2.421097  5.335857  12.918628         1\n",
       "1  71.635463  4.064556  4.658930  18.936481         1\n",
       "2  27.078316  2.082676  3.244444   6.757126         1\n",
       "3  40.361317  3.336595  2.613230   8.719290         1\n",
       "4  54.404880  2.761036  5.266261  14.540339         1"
      ]
     },
     "execution_count": 88,
     "metadata": {},
     "output_type": "execute_result"
    }
   ],
   "source": [
    "N = 10000\n",
    "h1 = 4 + np.random.randn(N)\n",
    "d1 = 5 + np.random.randn(N)\n",
    "\n",
    "sigma = 3 + .2 * h1\n",
    "\n",
    "d2 = 3 + 5 * h1 - 2 * d1 + 3 * h1 * d1 + sigma * np.random.randn(N)\n",
    "\n",
    "df = pd.DataFrame({'d2': d2, 'h1' : h1, 'd1' : d1, 'h1d1': h1 * d1})\n",
    "df['constant'] = 1\n",
    "\n",
    "df.head()"
   ]
  },
  {
   "cell_type": "code",
   "execution_count": 89,
   "metadata": {},
   "outputs": [],
   "source": [
    "def _ll_ols(y, X, beta, gamma):\n",
    "    mu = X.dot(beta)\n",
    "    sigma = X[:,:2].dot(gamma)\n",
    "    return norm(mu,sigma).logpdf(y).sum()    \n"
   ]
  },
  {
   "cell_type": "code",
   "execution_count": 98,
   "metadata": {},
   "outputs": [],
   "source": [
    "class MyDepNormML(GenericLikelihoodModel):\n",
    "    def __init__(self, endog, exog, **kwds):\n",
    "        super(MyDepNormML, self).__init__(endog, exog, **kwds)\n",
    "    def nloglikeobs(self, params):\n",
    "        gamma = params[-2:]\n",
    "        beta = params[:-2]\n",
    "        ll = _ll_ols(self.endog, self.exog, beta, gamma)\n",
    "        return -ll\n",
    "    def fit(self, start_params=None, maxiter=10000, maxfun=5000, **kwds):\n",
    "        # we have one additional parameter and we need to add it for summary\n",
    "        self.exog_names.append('gamm1')\n",
    "        self.exog_names.append('gamm2')\n",
    "        if start_params == None:\n",
    "            # Reasonable starting values\n",
    "            start_params = np.append(np.zeros(self.exog.shape[1]), [0.5,.5])\n",
    "        return super(MyDepNormML, self).fit(start_params=start_params, \n",
    "                                  maxiter=maxiter, maxfun=maxfun, \n",
    "                                  **kwds)"
   ]
  },
  {
   "cell_type": "code",
   "execution_count": 99,
   "metadata": {},
   "outputs": [
    {
     "name": "stdout",
     "output_type": "stream",
     "text": [
      "Optimization terminated successfully.\n",
      "         Current function value: 2.752625\n",
      "         Iterations: 359\n",
      "         Function evaluations: 582\n",
      "                             MyDepNormML Results                              \n",
      "==============================================================================\n",
      "Dep. Variable:                     d2   Log-Likelihood:                -27526.\n",
      "Model:                    MyDepNormML   AIC:                         5.506e+04\n",
      "Method:            Maximum Likelihood   BIC:                         5.509e+04\n",
      "Date:                Thu, 02 Dec 2021                                         \n",
      "Time:                        15:05:51                                         \n",
      "No. Observations:               10000                                         \n",
      "Df Residuals:                    9996                                         \n",
      "Df Model:                           3                                         \n",
      "==============================================================================\n",
      "                 coef    std err          z      P>|z|      [0.025      0.975]\n",
      "------------------------------------------------------------------------------\n",
      "constant       1.9316      0.744      2.596      0.009       0.473       3.390\n",
      "h1             5.2403      0.185     28.255      0.000       4.877       5.604\n",
      "d1            -1.8463      0.145    -12.768      0.000      -2.130      -1.563\n",
      "h1d1           2.9680      0.036     82.230      0.000       2.897       3.039\n",
      "gamm1          2.8636      0.106     27.120      0.000       2.657       3.071\n",
      "gamm2          0.2343      0.026      8.896      0.000       0.183       0.286\n",
      "==============================================================================\n"
     ]
    }
   ],
   "source": [
    "sm_ml_manual = MyDepNormML(df.d2,df[['constant','h1', 'd1', 'h1d1']]).fit(start_params = [2, 4, -1, 5, 4, 4])\n",
    "print(sm_ml_manual.summary())"
   ]
  },
  {
   "cell_type": "code",
   "execution_count": 92,
   "metadata": {},
   "outputs": [
    {
     "data": {
      "text/plain": [
       "array([-1.03133392, -0.87559337, -1.05305212,  4.08276043,  2.54928339,\n",
       "        1.03135554])"
      ]
     },
     "execution_count": 92,
     "metadata": {},
     "output_type": "execute_result"
    }
   ],
   "source": [
    "# the fitted coefficients:\n",
    "sm_ols_manual.params\n"
   ]
  },
  {
   "cell_type": "code",
   "execution_count": null,
   "metadata": {},
   "outputs": [],
   "source": []
  }
 ],
 "metadata": {
  "kernelspec": {
   "display_name": "Python 3",
   "language": "python",
   "name": "python3"
  },
  "language_info": {
   "codemirror_mode": {
    "name": "ipython",
    "version": 3
   },
   "file_extension": ".py",
   "mimetype": "text/x-python",
   "name": "python",
   "nbconvert_exporter": "python",
   "pygments_lexer": "ipython3",
   "version": "3.8.3"
  }
 },
 "nbformat": 4,
 "nbformat_minor": 4
}
