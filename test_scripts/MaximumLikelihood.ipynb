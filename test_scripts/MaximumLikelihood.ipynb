{
 "cells": [
  {
   "cell_type": "code",
   "execution_count": 2,
   "metadata": {},
   "outputs": [],
   "source": [
    "import pymc3 as pm3\n",
    "import numpy as np\n",
    "import numdifftools as ndt\n",
    "import pandas as pd\n",
    "from scipy.stats import norm, beta\n",
    "import statsmodels.api as sm\n",
    "from statsmodels.base.model import GenericLikelihoodModel\n",
    "from scipy.optimize import minimize\n",
    "import matplotlib.pyplot as plt"
   ]
  },
  {
   "cell_type": "markdown",
   "metadata": {},
   "source": [
    "About Log likelihood estimation : https://rlhick.people.wm.edu/posts/estimating-custom-mle.html"
   ]
  },
  {
   "cell_type": "code",
   "execution_count": 3,
   "metadata": {},
   "outputs": [
    {
     "data": {
      "text/html": [
       "<div>\n",
       "<style scoped>\n",
       "    .dataframe tbody tr th:only-of-type {\n",
       "        vertical-align: middle;\n",
       "    }\n",
       "\n",
       "    .dataframe tbody tr th {\n",
       "        vertical-align: top;\n",
       "    }\n",
       "\n",
       "    .dataframe thead th {\n",
       "        text-align: right;\n",
       "    }\n",
       "</style>\n",
       "<table border=\"1\" class=\"dataframe\">\n",
       "  <thead>\n",
       "    <tr style=\"text-align: right;\">\n",
       "      <th></th>\n",
       "      <th>d2</th>\n",
       "      <th>h1</th>\n",
       "      <th>d1</th>\n",
       "      <th>h1d1</th>\n",
       "      <th>constant</th>\n",
       "    </tr>\n",
       "  </thead>\n",
       "  <tbody>\n",
       "    <tr>\n",
       "      <th>0</th>\n",
       "      <td>47.394814</td>\n",
       "      <td>2.980200</td>\n",
       "      <td>4.646811</td>\n",
       "      <td>13.848426</td>\n",
       "      <td>1</td>\n",
       "    </tr>\n",
       "    <tr>\n",
       "      <th>1</th>\n",
       "      <td>70.808411</td>\n",
       "      <td>3.908092</td>\n",
       "      <td>5.086467</td>\n",
       "      <td>19.878380</td>\n",
       "      <td>1</td>\n",
       "    </tr>\n",
       "    <tr>\n",
       "      <th>2</th>\n",
       "      <td>85.892315</td>\n",
       "      <td>4.096150</td>\n",
       "      <td>6.056814</td>\n",
       "      <td>24.809617</td>\n",
       "      <td>1</td>\n",
       "    </tr>\n",
       "    <tr>\n",
       "      <th>3</th>\n",
       "      <td>83.392385</td>\n",
       "      <td>4.460677</td>\n",
       "      <td>5.223256</td>\n",
       "      <td>23.299260</td>\n",
       "      <td>1</td>\n",
       "    </tr>\n",
       "    <tr>\n",
       "      <th>4</th>\n",
       "      <td>50.859692</td>\n",
       "      <td>3.094493</td>\n",
       "      <td>5.111163</td>\n",
       "      <td>15.816460</td>\n",
       "      <td>1</td>\n",
       "    </tr>\n",
       "  </tbody>\n",
       "</table>\n",
       "</div>"
      ],
      "text/plain": [
       "          d2        h1        d1       h1d1  constant\n",
       "0  47.394814  2.980200  4.646811  13.848426         1\n",
       "1  70.808411  3.908092  5.086467  19.878380         1\n",
       "2  85.892315  4.096150  6.056814  24.809617         1\n",
       "3  83.392385  4.460677  5.223256  23.299260         1\n",
       "4  50.859692  3.094493  5.111163  15.816460         1"
      ]
     },
     "execution_count": 3,
     "metadata": {},
     "output_type": "execute_result"
    }
   ],
   "source": [
    "N = 10000\n",
    "h1 = 4 + np.random.randn(N)\n",
    "d1 = 5 + np.random.randn(N)\n",
    "\n",
    "sigma = 3 + .2 * h1\n",
    "\n",
    "d2 = 3 + 5 * h1 - 2 * d1 + 3 * h1 * d1 + sigma * np.random.randn(N)\n",
    "\n",
    "df = pd.DataFrame({'d2': d2, 'h1' : h1, 'd1' : d1, 'h1d1': h1 * d1})\n",
    "df['constant'] = 1\n",
    "\n",
    "df.head()"
   ]
  },
  {
   "cell_type": "code",
   "execution_count": 4,
   "metadata": {},
   "outputs": [],
   "source": [
    "def _ll_ols(y, X, beta, gamma):\n",
    "    mu = X.dot(beta)\n",
    "    sigma = X[:,:2].dot(gamma)\n",
    "    return norm(mu,sigma).logpdf(y).sum()    \n"
   ]
  },
  {
   "cell_type": "code",
   "execution_count": 5,
   "metadata": {},
   "outputs": [],
   "source": [
    "class MyDepNormML(GenericLikelihoodModel):\n",
    "    def __init__(self, endog, exog, **kwds):\n",
    "        super(MyDepNormML, self).__init__(endog, exog, **kwds)\n",
    "    def nloglikeobs(self, params):\n",
    "        gamma = params[-2:]\n",
    "        beta = params[:-2]\n",
    "        ll = _ll_ols(self.endog, self.exog, beta, gamma)\n",
    "        return -ll\n",
    "    def fit(self, start_params=None, maxiter=10000, maxfun=5000, **kwds):\n",
    "        # we have one additional parameter and we need to add it for summary\n",
    "        self.exog_names.append('gamm1')\n",
    "        self.exog_names.append('gamm2')\n",
    "        if start_params == None:\n",
    "            # Reasonable starting values\n",
    "            start_params = np.append(np.zeros(self.exog.shape[1]), [0.5,.5])\n",
    "        return super(MyDepNormML, self).fit(start_params=start_params, \n",
    "                                  maxiter=maxiter, maxfun=maxfun, \n",
    "                                  **kwds)"
   ]
  },
  {
   "cell_type": "code",
   "execution_count": 6,
   "metadata": {},
   "outputs": [
    {
     "name": "stdout",
     "output_type": "stream",
     "text": [
      "Optimization terminated successfully.\n",
      "         Current function value: 2.752065\n",
      "         Iterations: 435\n",
      "         Function evaluations: 698\n",
      "                             MyDepNormML Results                              \n",
      "==============================================================================\n",
      "Dep. Variable:                     d2   Log-Likelihood:                -27521.\n",
      "Model:                    MyDepNormML   AIC:                         5.505e+04\n",
      "Method:            Maximum Likelihood   BIC:                         5.508e+04\n",
      "Date:                Thu, 09 Dec 2021                                         \n",
      "Time:                        11:39:56                                         \n",
      "No. Observations:               10000                                         \n",
      "Df Residuals:                    9996                                         \n",
      "Df Model:                           3                                         \n",
      "==============================================================================\n",
      "                 coef    std err          z      P>|z|      [0.025      0.975]\n",
      "------------------------------------------------------------------------------\n",
      "constant       2.5468      0.791      3.221      0.001       0.997       4.097\n",
      "h1             5.1627      0.195     26.540      0.000       4.781       5.544\n",
      "d1            -1.8705      0.154    -12.115      0.000      -2.173      -1.568\n",
      "h1d1           2.9557      0.038     77.742      0.000       2.881       3.030\n",
      "gamm1          3.0218      0.108     28.043      0.000       2.811       3.233\n",
      "gamm2          0.1934      0.027      7.245      0.000       0.141       0.246\n",
      "==============================================================================\n"
     ]
    }
   ],
   "source": [
    "sm_ml_manual = MyDepNormML(df.d2,df[['constant','h1', 'd1', 'h1d1']]).fit(start_params = [2, 4, -1, 5, 4, 4])\n",
    "print(sm_ml_manual.summary())"
   ]
  },
  {
   "cell_type": "code",
   "execution_count": 7,
   "metadata": {},
   "outputs": [
    {
     "ename": "NameError",
     "evalue": "name 'sm_ols_manual' is not defined",
     "output_type": "error",
     "traceback": [
      "\u001b[1;31m---------------------------------------------------------------------------\u001b[0m",
      "\u001b[1;31mNameError\u001b[0m                                 Traceback (most recent call last)",
      "\u001b[1;32m<ipython-input-7-e2cb7faf4246>\u001b[0m in \u001b[0;36m<module>\u001b[1;34m\u001b[0m\n\u001b[0;32m      1\u001b[0m \u001b[1;31m# the fitted coefficients:\u001b[0m\u001b[1;33m\u001b[0m\u001b[1;33m\u001b[0m\u001b[1;33m\u001b[0m\u001b[0m\n\u001b[1;32m----> 2\u001b[1;33m \u001b[0msm_ols_manual\u001b[0m\u001b[1;33m.\u001b[0m\u001b[0mparams\u001b[0m\u001b[1;33m\u001b[0m\u001b[1;33m\u001b[0m\u001b[0m\n\u001b[0m",
      "\u001b[1;31mNameError\u001b[0m: name 'sm_ols_manual' is not defined"
     ]
    }
   ],
   "source": [
    "# the fitted coefficients:\n",
    "sm_ols_manual.params\n"
   ]
  },
  {
   "cell_type": "markdown",
   "metadata": {},
   "source": [
    "## CTH  - beta distribution"
   ]
  },
  {
   "cell_type": "code",
   "execution_count": 8,
   "metadata": {},
   "outputs": [],
   "source": [
    "def _ll_beta(y, X, alpha1, beta1, alpha2, beta2, p):\n",
    "    B1 = beta(alpha1, beta1).pdf(y)\n",
    "    B2 = beta(alpha2, beta2).pdf(y)\n",
    "    H = p * B1 + (1 - p) * B2\n",
    "    return np.log(H).sum()    \n",
    "\n",
    "class MyMixBetaML(GenericLikelihoodModel):\n",
    "    def __init__(self, endog, exog, **kwds):\n",
    "        super(MyMixBetaML, self).__init__(endog, exog, **kwds)\n",
    "    def nloglikeobs(self, params):\n",
    "        alpha1, beta1 = params[:2]\n",
    "        alpha2, beta2 = params[2:4]\n",
    "        p = params[4]\n",
    "        ll = _ll_beta(self.endog, self.exog, alpha1, beta1, alpha2, beta2, p)\n",
    "        return -ll\n",
    "    def fit(self, start_params=None, maxiter=10000, maxfun=5000, **kwds):\n",
    "        # we have one additional parameter and we need to add it for summary\n",
    "        self.exog_names.remove('x1')\n",
    "        self.exog_names.append('alpha1')\n",
    "        self.exog_names.append('beta1')\n",
    "        self.exog_names.append('alpha2')\n",
    "        self.exog_names.append('beta2')\n",
    "        self.exog_names.append('p')\n",
    "        if start_params == None:\n",
    "            # Reasonable starting values\n",
    "            start_params = np.append(np.zeros(self.exog.shape[1]), [0.5])\n",
    "        return super(MyMixBetaML, self).fit(start_params=start_params, \n",
    "                                  maxiter=maxiter, maxfun=maxfun, \n",
    "                                  **kwds)"
   ]
  },
  {
   "cell_type": "code",
   "execution_count": 59,
   "metadata": {},
   "outputs": [
    {
     "data": {
      "text/plain": [
       "array([[ True],\n",
       "       [ True],\n",
       "       [ True],\n",
       "       ...,\n",
       "       [False],\n",
       "       [ True],\n",
       "       [ True]])"
      ]
     },
     "execution_count": 59,
     "metadata": {},
     "output_type": "execute_result"
    }
   ],
   "source": [
    "u.values"
   ]
  },
  {
   "cell_type": "code",
   "execution_count": null,
   "metadata": {},
   "outputs": [
    {
     "name": "stdout",
     "output_type": "stream",
     "text": [
      "100000\n"
     ]
    }
   ],
   "source": [
    "n = int(1e5)\n",
    "print(n)\n",
    "x = pd.DataFrame(np.random.rand(n))\n",
    "n = int(1e4)\n",
    "x = x.sample(int(1e4))\n",
    "p = .8\n",
    "alpha1, beta1 = 1.3, 10\n",
    "alpha2, beta2 = 2, 1\n",
    "true_params = np.array([ 0.91317788,  1.91077191, 21.52071485,  6.85876098,  0.79635204])\n",
    "alpha1, beta1, alpha2, beta2, p = true_params\n",
    "\n",
    "y1 = beta.rvs(alpha1, beta1, size=n)\n",
    "y2 = beta.rvs(alpha2, beta2, size=n)\n",
    "u = (x < p).values\n",
    "\n",
    "y = u * y1 + ~u * y2\n",
    "# y = y * .8\n",
    "\n",
    "sm_ml_manual = MyMixBetaML(y,y).fit(start_params = [1, 1, 1, 1, .5])\n",
    "print(sm_ml_manual.summary())\n"
   ]
  },
  {
   "cell_type": "code",
   "execution_count": 28,
   "metadata": {},
   "outputs": [
    {
     "data": {
      "image/png": "[encoded data removed]",
      "text/plain": [
       "<Figure size 432x288 with 1 Axes>"
      ]
     },
     "metadata": {
      "needs_background": "light"
     },
     "output_type": "display_data"
    }
   ],
   "source": [
    "sm_ml_manual.params\n",
    "plt.hist(y, bins = 50, density = True)\n",
    "\n",
    "\n",
    "def pdf_bmix(y, alpha1, beta1, alpha2, beta2, p):\n",
    "    B1 = beta(alpha1, beta1).pdf(y)\n",
    "    B2 = beta(alpha2, beta2).pdf(y)\n",
    "    H = p * B1 + (1 - p) * B2\n",
    "    return H\n",
    "\n",
    "x = np.arange(0, 1, .01)\n",
    "plt.plot(x, pdf_bmix(x, *sm_ml_manual.params), label = 'Maximum likelihood')\n",
    "# plt.plot(x, pdf_bmix(x, alpha1, beta1, alpha2, beta2, p), 'r', label = 'True distribution')\n",
    "plt.legend()\n",
    "plt.show()"
   ]
  },
  {
   "cell_type": "code",
   "execution_count": 18,
   "metadata": {},
   "outputs": [
    {
     "data": {
      "image/png": "[encoded data removed]",
      "text/plain": [
       "<Figure size 432x288 with 1 Axes>"
      ]
     },
     "metadata": {
      "needs_background": "light"
     },
     "output_type": "display_data"
    }
   ],
   "source": [
    "params = np.array([ 0.91317788,  1.91077191, 21.52071485,  6.85876098,  0.79635204])\n",
    "plt.plot(x, pdf_bmix(x, *params), 'r', label = 'True distribution')\n",
    "plt.legend()\n",
    "plt.show()"
   ]
  },
  {
   "cell_type": "code",
   "execution_count": 19,
   "metadata": {},
   "outputs": [
    {
     "data": {
      "text/plain": [
       "0.9883018840058426"
      ]
     },
     "execution_count": 19,
     "metadata": {},
     "output_type": "execute_result"
    }
   ],
   "source": [
    "pdf_bmix(x, *params)[1:].sum() * (x[1] - x[0])"
   ]
  },
  {
   "cell_type": "markdown",
   "metadata": {},
   "source": [
    "### how many points do I need for accuracy\n"
   ]
  },
  {
   "cell_type": "code",
   "execution_count": 51,
   "metadata": {},
   "outputs": [
    {
     "name": "stdout",
     "output_type": "stream",
     "text": [
      "Optimization terminated successfully.\n",
      "         Current function value: -0.105349\n",
      "         Iterations: 165\n",
      "         Function evaluations: 272\n"
     ]
    },
    {
     "name": "stderr",
     "output_type": "stream",
     "text": [
      "C:\\Users\\nerin\\anaconda3\\lib\\site-packages\\statsmodels\\base\\model.py:547: HessianInversionWarning: Inverting hessian failed, no bse or cov_params available\n",
      "  warn('Inverting hessian failed, no bse or cov_params '\n"
     ]
    },
    {
     "name": "stdout",
     "output_type": "stream",
     "text": [
      "Optimization terminated successfully.\n",
      "         Current function value: -0.102298\n",
      "         Iterations: 349\n",
      "         Function evaluations: 566\n",
      "Optimization terminated successfully.\n",
      "         Current function value: -0.131041\n",
      "         Iterations: 508\n",
      "         Function evaluations: 817\n",
      "Optimization terminated successfully.\n",
      "         Current function value: -0.125417\n",
      "         Iterations: 525\n",
      "         Function evaluations: 846\n",
      "Optimization terminated successfully.\n",
      "         Current function value: -0.114355\n",
      "         Iterations: 586\n",
      "         Function evaluations: 934\n",
      "Optimization terminated successfully.\n",
      "         Current function value: -0.106505\n",
      "         Iterations: 494\n",
      "         Function evaluations: 794\n",
      "Optimization terminated successfully.\n",
      "         Current function value: -0.111059\n",
      "         Iterations: 490\n",
      "         Function evaluations: 778\n",
      "Optimization terminated successfully.\n",
      "         Current function value: -0.111320\n",
      "         Iterations: 467\n",
      "         Function evaluations: 753\n"
     ]
    }
   ],
   "source": [
    "import time\n",
    "import timeit\n",
    "\n",
    "N = np.array([100, 300,1e3, 3e3, 1e4, 3e4, 1e5, 3e5])\n",
    "true_params = np.array([ 0.91317788,  1.91077191, 21.52071485,  6.85876098,  0.79635204])\n",
    "\n",
    "def sample(n, params = true_params):\n",
    "    np.random.seed(0)\n",
    "    x = np.random.rand(n)\n",
    "    \n",
    "    alpha1, beta1, alpha2, beta2, p = true_params\n",
    "\n",
    "    y1 = beta.rvs(alpha1, beta1, size=n)\n",
    "    y2 = beta.rvs(alpha2, beta2, size=n)\n",
    "    u = x < p\n",
    "\n",
    "    y = u * y1 + ~u * y2\n",
    "    return y\n",
    "\n",
    "def mlEstimation(y):\n",
    "    return MyMixBetaML(y,y).fit(start_params = [1, 1, 1, 1, .5]).params\n",
    "\n",
    "err = np.zeros((len(N),len(true_params)))\n",
    "t = np.zeros(len(N))\n",
    "for i, n in zip(range(len(N)), N):\n",
    "    y = sample(int(n))\n",
    "    \n",
    "    tic = timeit.default_timer()\n",
    "    est = mlEstimation(y)\n",
    "    toc = timeit.default_timer()\n",
    "    t[i] = toc - tic\n",
    "    \n",
    "    err[i, :] = np.abs(true_params - est)\n",
    "\n",
    "    \n"
   ]
  },
  {
   "cell_type": "code",
   "execution_count": 52,
   "metadata": {},
   "outputs": [
    {
     "data": {
      "text/plain": [
       "<matplotlib.legend.Legend at 0x1218b448280>"
      ]
     },
     "execution_count": 52,
     "metadata": {},
     "output_type": "execute_result"
    },
    {
     "data": {
      "image/png": "[encoded data removed]",
      "text/plain": [
       "<Figure size 432x288 with 1 Axes>"
      ]
     },
     "metadata": {
      "needs_background": "light"
     },
     "output_type": "display_data"
    }
   ],
   "source": [
    "plt.plot(N, err)\n",
    "plt.plot(N, t)\n",
    "plt.xscale('log')\n",
    "plt.yscale('log')\n",
    "plt.legend([    'alpha1', 'beta1', 'alpha2', 'beta2', 'p', 't'])"
   ]
  }
 ],
 "metadata": {
  "kernelspec": {
   "display_name": "Python 3",
   "language": "python",
   "name": "python3"
  },
  "language_info": {
   "codemirror_mode": {
    "name": "ipython",
    "version": 3
   },
   "file_extension": ".py",
   "mimetype": "text/x-python",
   "name": "python",
   "nbconvert_exporter": "python",
   "pygments_lexer": "ipython3",
   "version": "3.8.3"
  }
 },
 "nbformat": 4,
 "nbformat_minor": 4
}
