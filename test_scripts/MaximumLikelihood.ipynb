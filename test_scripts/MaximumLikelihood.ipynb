{
 "cells": [
  {
   "cell_type": "code",
   "execution_count": 117,
   "metadata": {},
   "outputs": [],
   "source": [
    "import pymc3 as pm3\n",
    "import numpy as np\n",
    "import numdifftools as ndt\n",
    "import pandas as pd\n",
    "from scipy.stats import norm, beta\n",
    "import statsmodels.api as sm\n",
    "from statsmodels.base.model import GenericLikelihoodModel\n",
    "from scipy.optimize import minimize\n",
    "import matplotlib.pyplot as plt"
   ]
  },
  {
   "cell_type": "markdown",
   "metadata": {},
   "source": [
    "About Log likelihood estimation : https://rlhick.people.wm.edu/posts/estimating-custom-mle.html"
   ]
  },
  {
   "cell_type": "code",
   "execution_count": 100,
   "metadata": {},
   "outputs": [
    {
     "data": {
      "text/html": [
       "<div>\n",
       "<style scoped>\n",
       "    .dataframe tbody tr th:only-of-type {\n",
       "        vertical-align: middle;\n",
       "    }\n",
       "\n",
       "    .dataframe tbody tr th {\n",
       "        vertical-align: top;\n",
       "    }\n",
       "\n",
       "    .dataframe thead th {\n",
       "        text-align: right;\n",
       "    }\n",
       "</style>\n",
       "<table border=\"1\" class=\"dataframe\">\n",
       "  <thead>\n",
       "    <tr style=\"text-align: right;\">\n",
       "      <th></th>\n",
       "      <th>d2</th>\n",
       "      <th>h1</th>\n",
       "      <th>d1</th>\n",
       "      <th>h1d1</th>\n",
       "      <th>constant</th>\n",
       "    </tr>\n",
       "  </thead>\n",
       "  <tbody>\n",
       "    <tr>\n",
       "      <th>0</th>\n",
       "      <td>66.622127</td>\n",
       "      <td>3.162932</td>\n",
       "      <td>6.460132</td>\n",
       "      <td>20.432955</td>\n",
       "      <td>1</td>\n",
       "    </tr>\n",
       "    <tr>\n",
       "      <th>1</th>\n",
       "      <td>62.831142</td>\n",
       "      <td>4.029876</td>\n",
       "      <td>4.026593</td>\n",
       "      <td>16.226672</td>\n",
       "      <td>1</td>\n",
       "    </tr>\n",
       "    <tr>\n",
       "      <th>2</th>\n",
       "      <td>45.251362</td>\n",
       "      <td>3.500621</td>\n",
       "      <td>3.413268</td>\n",
       "      <td>11.948557</td>\n",
       "      <td>1</td>\n",
       "    </tr>\n",
       "    <tr>\n",
       "      <th>3</th>\n",
       "      <td>84.599672</td>\n",
       "      <td>5.057157</td>\n",
       "      <td>4.481368</td>\n",
       "      <td>22.662980</td>\n",
       "      <td>1</td>\n",
       "    </tr>\n",
       "    <tr>\n",
       "      <th>4</th>\n",
       "      <td>59.389212</td>\n",
       "      <td>4.642833</td>\n",
       "      <td>3.312925</td>\n",
       "      <td>15.381357</td>\n",
       "      <td>1</td>\n",
       "    </tr>\n",
       "  </tbody>\n",
       "</table>\n",
       "</div>"
      ],
      "text/plain": [
       "          d2        h1        d1       h1d1  constant\n",
       "0  66.622127  3.162932  6.460132  20.432955         1\n",
       "1  62.831142  4.029876  4.026593  16.226672         1\n",
       "2  45.251362  3.500621  3.413268  11.948557         1\n",
       "3  84.599672  5.057157  4.481368  22.662980         1\n",
       "4  59.389212  4.642833  3.312925  15.381357         1"
      ]
     },
     "execution_count": 100,
     "metadata": {},
     "output_type": "execute_result"
    }
   ],
   "source": [
    "N = 10000\n",
    "h1 = 4 + np.random.randn(N)\n",
    "d1 = 5 + np.random.randn(N)\n",
    "\n",
    "sigma = 3 + .2 * h1\n",
    "\n",
    "d2 = 3 + 5 * h1 - 2 * d1 + 3 * h1 * d1 + sigma * np.random.randn(N)\n",
    "\n",
    "df = pd.DataFrame({'d2': d2, 'h1' : h1, 'd1' : d1, 'h1d1': h1 * d1})\n",
    "df['constant'] = 1\n",
    "\n",
    "df.head()"
   ]
  },
  {
   "cell_type": "code",
   "execution_count": 89,
   "metadata": {},
   "outputs": [],
   "source": [
    "def _ll_ols(y, X, beta, gamma):\n",
    "    mu = X.dot(beta)\n",
    "    sigma = X[:,:2].dot(gamma)\n",
    "    return norm(mu,sigma).logpdf(y).sum()    \n"
   ]
  },
  {
   "cell_type": "code",
   "execution_count": 217,
   "metadata": {},
   "outputs": [],
   "source": [
    "class MyDepNormML(GenericLikelihoodModel):\n",
    "    def __init__(self, endog, exog, **kwds):\n",
    "        super(MyDepNormML, self).__init__(endog, exog, **kwds)\n",
    "    def nloglikeobs(self, params):\n",
    "        gamma = params[-2:]\n",
    "        beta = params[:-2]\n",
    "        ll = _ll_ols(self.endog, self.exog, beta, gamma)\n",
    "        return -ll\n",
    "    def fit(self, start_params=None, maxiter=10000, maxfun=5000, **kwds):\n",
    "        # we have one additional parameter and we need to add it for summary\n",
    "        self.exog_names.append('gamm1')\n",
    "        self.exog_names.append('gamm2')\n",
    "        if start_params == None:\n",
    "            # Reasonable starting values\n",
    "            start_params = np.append(np.zeros(self.exog.shape[1]), [0.5,.5])\n",
    "        return super(MyDepNormML, self).fit(start_params=start_params, \n",
    "                                  maxiter=maxiter, maxfun=maxfun, \n",
    "                                  **kwds)"
   ]
  },
  {
   "cell_type": "code",
   "execution_count": 218,
   "metadata": {},
   "outputs": [
    {
     "name": "stdout",
     "output_type": "stream",
     "text": [
      "Optimization terminated successfully.\n",
      "         Current function value: 2.739167\n",
      "         Iterations: 417\n",
      "         Function evaluations: 658\n",
      "                             MyDepNormML Results                              \n",
      "==============================================================================\n",
      "Dep. Variable:                     d2   Log-Likelihood:                -27392.\n",
      "Model:                    MyDepNormML   AIC:                         5.479e+04\n",
      "Method:            Maximum Likelihood   BIC:                         5.482e+04\n",
      "Date:                Tue, 07 Dec 2021                                         \n",
      "Time:                        16:13:47                                         \n",
      "No. Observations:               10000                                         \n",
      "Df Residuals:                    9996                                         \n",
      "Df Model:                           3                                         \n",
      "==============================================================================\n",
      "                 coef    std err          z      P>|z|      [0.025      0.975]\n",
      "------------------------------------------------------------------------------\n",
      "constant       2.4034      0.773      3.110      0.002       0.889       3.918\n",
      "h1             5.1198      0.190     26.878      0.000       4.746       5.493\n",
      "d1            -1.9018      0.151    -12.562      0.000      -2.199      -1.605\n",
      "h1d1           2.9813      0.037     79.899      0.000       2.908       3.054\n",
      "gamm1          2.9550      0.106     27.871      0.000       2.747       3.163\n",
      "gamm2          0.1985      0.026      7.531      0.000       0.147       0.250\n",
      "==============================================================================\n"
     ]
    }
   ],
   "source": [
    "sm_ml_manual = MyDepNormML(df.d2,df[['constant','h1', 'd1', 'h1d1']]).fit(start_params = [2, 4, -1, 5, 4, 4])\n",
    "print(sm_ml_manual.summary())"
   ]
  },
  {
   "cell_type": "code",
   "execution_count": 92,
   "metadata": {},
   "outputs": [
    {
     "data": {
      "text/plain": [
       "array([-1.03133392, -0.87559337, -1.05305212,  4.08276043,  2.54928339,\n",
       "        1.03135554])"
      ]
     },
     "execution_count": 92,
     "metadata": {},
     "output_type": "execute_result"
    }
   ],
   "source": [
    "# the fitted coefficients:\n",
    "sm_ols_manual.params\n"
   ]
  },
  {
   "cell_type": "markdown",
   "metadata": {},
   "source": [
    "## CTH  - beta distribution"
   ]
  },
  {
   "cell_type": "code",
   "execution_count": 232,
   "metadata": {},
   "outputs": [],
   "source": [
    "def _ll_beta(y, X, alpha1, beta1, alpha2, beta2, p):\n",
    "    B1 = beta(alpha1, beta1).pdf(y)\n",
    "    B2 = beta(alpha2, beta2).pdf(y)\n",
    "    H = p * B1 + (1 - p) * B2\n",
    "    return np.log(H).sum()    \n",
    "\n",
    "class MyMixBetaML(GenericLikelihoodModel):\n",
    "    def __init__(self, endog, exog, **kwds):\n",
    "        super(MyMixBetaML, self).__init__(endog, exog, **kwds)\n",
    "    def nloglikeobs(self, params):\n",
    "        alpha1, beta1 = params[:2]\n",
    "        alpha2, beta2 = params[2:4]\n",
    "        p = params[4]\n",
    "        ll = _ll_beta(self.endog, self.exog, alpha1, beta1, alpha2, beta2, p)\n",
    "        return -ll\n",
    "    def fit(self, start_params=None, maxiter=10000, maxfun=5000, **kwds):\n",
    "        # we have one additional parameter and we need to add it for summary\n",
    "        self.exog_names.remove('x1')\n",
    "        self.exog_names.append('alpha1')\n",
    "        self.exog_names.append('beta1')\n",
    "        self.exog_names.append('alpha2')\n",
    "        self.exog_names.append('beta2')\n",
    "        self.exog_names.append('p')\n",
    "        if start_params == None:\n",
    "            # Reasonable starting values\n",
    "            start_params = np.append(np.zeros(self.exog.shape[1]), [0.5])\n",
    "        return super(MyMixBetaML, self).fit(start_params=start_params, \n",
    "                                  maxiter=maxiter, maxfun=maxfun, \n",
    "                                  **kwds)"
   ]
  },
  {
   "cell_type": "code",
   "execution_count": 305,
   "metadata": {},
   "outputs": [
    {
     "name": "stdout",
     "output_type": "stream",
     "text": [
      "Optimization terminated successfully.\n",
      "         Current function value: -0.315220\n",
      "         Iterations: 492\n",
      "         Function evaluations: 790\n",
      "                             MyMixBetaML Results                              \n",
      "==============================================================================\n",
      "Dep. Variable:                      y   Log-Likelihood:                 31.522\n",
      "Model:                    MyMixBetaML   AIC:                            -61.04\n",
      "Method:            Maximum Likelihood   BIC:                            -58.44\n",
      "Date:                Wed, 08 Dec 2021                                         \n",
      "Time:                        12:21:08                                         \n",
      "No. Observations:                 100                                         \n",
      "Df Residuals:                      99                                         \n",
      "Df Model:                           0                                         \n",
      "==============================================================================\n",
      "                 coef    std err          z      P>|z|      [0.025      0.975]\n",
      "------------------------------------------------------------------------------\n",
      "alpha1        25.7879     37.854      0.681      0.496     -48.405      99.980\n",
      "beta1         17.8143     23.934      0.744      0.457     -29.095      64.724\n",
      "alpha2         1.1124      0.207      5.377      0.000       0.707       1.518\n",
      "beta2          3.5364      1.875      1.886      0.059      -0.139       7.211\n",
      "p              0.2619      0.180      1.453      0.146      -0.091       0.615\n",
      "==============================================================================\n"
     ]
    }
   ],
   "source": [
    "n = 100\n",
    "x = np.random.rand(n)\n",
    "\n",
    "p = .8\n",
    "alpha1, beta1 = 1.3, 10\n",
    "alpha2, beta2 = 2, 1\n",
    "alpha1, beta1, alpha2, beta2, p = np.array([ 0.91317788,  1.91077191, 21.52071485,  6.85876098,  0.79635204])\n",
    "\n",
    "\n",
    "y1 = beta.rvs(alpha1, beta1, size=n)\n",
    "y2 = beta.rvs(alpha2, beta2, size=n)\n",
    "u = x < p\n",
    "\n",
    "y = u * y1 + ~u * y2\n",
    "y = y * .8\n",
    "\n",
    "sm_ml_manual = MyMixBetaML(y,y).fit(start_params = [1, 1, 1, 1, .5])\n",
    "print(sm_ml_manual.summary())\n"
   ]
  },
  {
   "cell_type": "code",
   "execution_count": 307,
   "metadata": {},
   "outputs": [
    {
     "data": {
      "image/png": "[encoded data removed]",
      "text/plain": [
       "<Figure size 432x288 with 1 Axes>"
      ]
     },
     "metadata": {
      "needs_background": "light"
     },
     "output_type": "display_data"
    }
   ],
   "source": [
    "sm_ml_manual.params\n",
    "plt.hist(y, bins = 50, density = True)\n",
    "\n",
    "\n",
    "def pdf_bmix(y, alpha1, beta1, alpha2, beta2, p):\n",
    "    B1 = beta(alpha1, beta1).pdf(y)\n",
    "    B2 = beta(alpha2, beta2).pdf(y)\n",
    "    H = p * B1 + (1 - p) * B2\n",
    "    return H\n",
    "\n",
    "x = np.arange(0, 1, .01)\n",
    "plt.plot(x, pdf_bmix(x, *sm_ml_manual.params), label = 'Maximum likelihood')\n",
    "# plt.plot(x, pdf_bmix(x, alpha1, beta1, alpha2, beta2, p), 'r', label = 'True distribution')\n",
    "plt.legend()\n",
    "plt.show()"
   ]
  },
  {
   "cell_type": "code",
   "execution_count": 294,
   "metadata": {},
   "outputs": [
    {
     "data": {
      "image/png": "[encoded data removed]",
      "text/plain": [
       "<Figure size 432x288 with 1 Axes>"
      ]
     },
     "metadata": {
      "needs_background": "light"
     },
     "output_type": "display_data"
    }
   ],
   "source": [
    "params = np.array([ 0.91317788,  1.91077191, 21.52071485,  6.85876098,  0.79635204])\n",
    "plt.plot(x, pdf_bmix(x, *params), 'r', label = 'True distribution')\n",
    "plt.legend()\n",
    "plt.show()"
   ]
  },
  {
   "cell_type": "code",
   "execution_count": 298,
   "metadata": {},
   "outputs": [
    {
     "data": {
      "text/plain": [
       "0.9883018840058426"
      ]
     },
     "execution_count": 298,
     "metadata": {},
     "output_type": "execute_result"
    }
   ],
   "source": [
    "pdf_bmix(x, *params)[1:].sum() * (x[1] - x[0])"
   ]
  }
 ],
 "metadata": {
  "kernelspec": {
   "display_name": "Python 3",
   "language": "python",
   "name": "python3"
  },
  "language_info": {
   "codemirror_mode": {
    "name": "ipython",
    "version": 3
   },
   "file_extension": ".py",
   "mimetype": "text/x-python",
   "name": "python",
   "nbconvert_exporter": "python",
   "pygments_lexer": "ipython3",
   "version": "3.8.3"
  }
 },
 "nbformat": 4,
 "nbformat_minor": 4
}
