{
 "cells": [
  {
   "cell_type": "code",
   "execution_count": 73,
   "metadata": {},
   "outputs": [],
   "source": [
    "import pickle\n",
    "import GOES\n",
    "import numpy as np"
   ]
  },
  {
   "cell_type": "code",
   "execution_count": 17,
   "metadata": {},
   "outputs": [],
   "source": [
    "loc_data = '../data/raw_data/'"
   ]
  },
  {
   "cell_type": "markdown",
   "metadata": {},
   "source": [
    "### Find the corresponding Files"
   ]
  },
  {
   "cell_type": "code",
   "execution_count": 111,
   "metadata": {},
   "outputs": [
    {
     "name": "stdout",
     "output_type": "stream",
     "text": [
      "2020-12-11 12:04:57.675273984\n",
      "../data/raw_data/cth/OR_ABI-L2-ACHAF-M6_G16_s20203461200122_e20203461209430_c20203461211025.nc\n",
      "../data/raw_data/cod/OR_ABI-L2-CODF-M6_G16_s20203461200122_e20203461209430_c20203461211053.nc\n",
      "['../data/raw_data/dm/OR_ABI-L2-DMWF-M6C02_G16_s20203461200122_e20203461209430_c20203461225434.nc'\n",
      " '../data/raw_data/dm/OR_ABI-L2-DMWF-M6C07_G16_s20203461200122_e20203461209442_c20203461222284.nc'\n",
      " '../data/raw_data/dm/OR_ABI-L2-DMWF-M6C08_G16_s20203461200122_e20203461209430_c20203461222290.nc'\n",
      " '../data/raw_data/dm/OR_ABI-L2-DMWF-M6C09_G16_s20203461200122_e20203461209436_c20203461242318.nc'\n",
      " '../data/raw_data/dm/OR_ABI-L2-DMWF-M6C10_G16_s20203461200122_e20203461209442_c20203461242303.nc'\n",
      " '../data/raw_data/dm/OR_ABI-L2-DMWF-M6C14_G16_s20203461200122_e20203461209430_c20203461222497.nc']\n"
     ]
    }
   ],
   "source": [
    "with open('../data/raw_data/dates.txt', \"rb\") as f:\n",
    "    dates = pickle.load(f)\n",
    "\n",
    "## get an image with an existing time stamp for cth\n",
    "idx_cth = 22\n",
    "t = dates['cth'].loc[idx_cth].date\n",
    "print(t)\n",
    "\n",
    "# cod\n",
    "dt = abs(dates['cod'].date - t)\n",
    "idx_cod = dt.argmin()\n",
    "if dt.loc[idx_cod] > np.timedelta64(10, 'm'):\n",
    "    print(f'!Error: No cod found within 10 minutes of {t}')\n",
    "\n",
    "# dm\n",
    "dt = abs(dates['dm'].date - t)\n",
    "idx_dm = dt.nsmallest(6).index\n",
    "if dt.loc[idx_dm[0]] > np.timedelta64(1, 'h'):\n",
    "    print(f'!Error: No cod found within 1 hour of {t}')\n",
    "\n",
    "    \n",
    "file_cth = dates['cth'].loc[idx_cth].file_name\n",
    "file_cod = dates['cod'].loc[idx_cod].file_name\n",
    "files_dm = dates['dm'].loc[idx_dm].file_name.values\n",
    "\n",
    "print(file_cth)\n",
    "print(file_cod)\n",
    "print(files_dm)\n",
    "\n"
   ]
  },
  {
   "cell_type": "code",
   "execution_count": null,
   "metadata": {},
   "outputs": [],
   "source": []
  },
  {
   "cell_type": "code",
   "execution_count": 37,
   "metadata": {},
   "outputs": [
    {
     "ename": "AttributeError",
     "evalue": "'numpy.datetime64' object has no attribute 'to_datetime'",
     "output_type": "error",
     "traceback": [
      "\u001b[1;31m---------------------------------------------------------------------------\u001b[0m",
      "\u001b[1;31mAttributeError\u001b[0m                            Traceback (most recent call last)",
      "\u001b[1;32m<ipython-input-37-961a67a3b219>\u001b[0m in \u001b[0;36m<module>\u001b[1;34m\u001b[0m\n\u001b[1;32m----> 1\u001b[1;33m \u001b[0mt\u001b[0m\u001b[1;33m.\u001b[0m\u001b[0mto_datetime\u001b[0m\u001b[1;33m(\u001b[0m\u001b[1;33m)\u001b[0m\u001b[1;33m\u001b[0m\u001b[1;33m\u001b[0m\u001b[0m\n\u001b[0m",
      "\u001b[1;31mAttributeError\u001b[0m: 'numpy.datetime64' object has no attribute 'to_datetime'"
     ]
    }
   ],
   "source": [
    "t.to_datetime()"
   ]
  },
  {
   "cell_type": "markdown",
   "metadata": {},
   "source": [
    "### Area masking"
   ]
  },
  {
   "cell_type": "markdown",
   "metadata": {},
   "source": [
    "### Interpolation CTH & COD"
   ]
  },
  {
   "cell_type": "markdown",
   "metadata": {},
   "source": [
    "### Night time masking and other data flags"
   ]
  },
  {
   "cell_type": "markdown",
   "metadata": {},
   "source": [
    "### Projection to UTM"
   ]
  },
  {
   "cell_type": "markdown",
   "metadata": {},
   "source": [
    "### Advection"
   ]
  }
 ],
 "metadata": {
  "kernelspec": {
   "display_name": "Python 3",
   "language": "python",
   "name": "python3"
  },
  "language_info": {
   "codemirror_mode": {
    "name": "ipython",
    "version": 3
   },
   "file_extension": ".py",
   "mimetype": "text/x-python",
   "name": "python",
   "nbconvert_exporter": "python",
   "pygments_lexer": "ipython3",
   "version": "3.8.3"
  }
 },
 "nbformat": 4,
 "nbformat_minor": 4
}
