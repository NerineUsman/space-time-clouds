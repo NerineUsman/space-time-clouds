{
 "cells": [
  {
   "cell_type": "markdown",
   "metadata": {},
   "source": [
    "Simulation model 1"
   ]
  },
  {
   "cell_type": "code",
   "execution_count": null,
   "metadata": {},
   "outputs": [],
   "source": [
    "import numpy as np\n",
    "import matplotlib.pyplot as plt\n",
    "import pandas as pd\n",
    "import pdb\n",
    "import sys\n",
    "sys.path.insert(0, '../lib')\n",
    "sys.path.insert(0, '../src')\n",
    "from scipy.stats import norm, beta\n",
    "\n",
    "\n",
    "import ml_estimation as ml\n",
    "\n",
    "def createFilename(prop):\n",
    "    return 'sim_' + '_'.join([f'{x}={prop[x]}' for x in prop])"
   ]
  },
  {
   "cell_type": "code",
   "execution_count": 2,
   "metadata": {},
   "outputs": [
    {
     "ename": "NameError",
     "evalue": "name 'sigma' is not defined",
     "output_type": "error",
     "traceback": [
      "\u001b[1;31m---------------------------------------------------------------------------\u001b[0m",
      "\u001b[1;31mNameError\u001b[0m                                 Traceback (most recent call last)",
      "\u001b[1;32m<ipython-input-2-5c29fb49ad22>\u001b[0m in \u001b[0;36m<module>\u001b[1;34m\u001b[0m\n\u001b[1;32m----> 1\u001b[1;33m \u001b[0mnp\u001b[0m\u001b[1;33m.\u001b[0m\u001b[0mrandom\u001b[0m\u001b[1;33m.\u001b[0m\u001b[0mrandn\u001b[0m\u001b[1;33m(\u001b[0m\u001b[1;36m1\u001b[0m\u001b[1;33m)\u001b[0m \u001b[1;33m*\u001b[0m \u001b[0msigma\u001b[0m \u001b[1;33m+\u001b[0m \u001b[0mmu\u001b[0m\u001b[1;33m\u001b[0m\u001b[1;33m\u001b[0m\u001b[0m\n\u001b[0m",
      "\u001b[1;31mNameError\u001b[0m: name 'sigma' is not defined"
     ]
    }
   ],
   "source": [
    "np.random.randn(1) * sigma + mu"
   ]
  },
  {
   "cell_type": "code",
   "execution_count": 3,
   "metadata": {},
   "outputs": [
    {
     "data": {
      "text/plain": [
       "(   Unnamed: 0      coef     names\n",
       " 0           0  0.545979  constant\n",
       " 1           1 -0.000021       h_t\n",
       " 2           2  0.571208       d_t\n",
       " 3           3  0.000019        hd\n",
       " 4           4  1.022675     gamm1\n",
       " 5           5 -0.000015     gamm2,\n",
       "     Unnamed: 0          coef    names\n",
       " 0            0  5.000000e+00  gamma10\n",
       " 1            1  4.188790e-04  gamma11\n",
       " 2            2  3.000000e+00  gamma12\n",
       " 3            3  2.000000e-01  gamma13\n",
       " 4            4  8.000000e-01      pa0\n",
       " 5            5  2.000000e-02      pa1\n",
       " 6            6  9.000000e-05       a0\n",
       " 7            7  3.000000e-01       a1\n",
       " 8            8  5.000000e-01       a2\n",
       " 9            9 -6.000000e-01       a3\n",
       " 10          10 -5.000000e-02       a4\n",
       " 11          11  3.500000e-01       b0\n",
       " 12          12  7.000000e+03       b1\n",
       " 13          13 -4.000000e-08  gamma20\n",
       " 14          14  3.000000e+00  gamma21)"
      ]
     },
     "execution_count": 3,
     "metadata": {},
     "output_type": "execute_result"
    }
   ],
   "source": [
    "model1_cod = pd.read_csv('../mod/test/model1_cod.csv')\n",
    "model1_cth = pd.read_csv('../mod/test/model1_cth.csv')\n",
    "model1_cod, model1_cth"
   ]
  },
  {
   "cell_type": "code",
   "execution_count": null,
   "metadata": {},
   "outputs": [],
   "source": [
    "def step(x, cod_param, cth_param):\n",
    "    \"\"\"Makes one step.\n",
    "    Args:\n",
    "        x (np.array): current state of the pixel (h, d)\n",
    "    Returns:\n",
    "        np.array: updated state of the pixel\n",
    "    \"\"\"\n",
    "    print('x', x)\n",
    "    h, d = x\n",
    "    \n",
    "    Beta = cod_param[:4]\n",
    "    gamma = cod_param[4:6]\n",
    "    mu, sigma = ml.model1(h, d, Beta, gamma)\n",
    "\n",
    "    gamma1 = cth_param[:4]\n",
    "    a = cth_param[4:6]\n",
    "    ab = cth_param[6:13]\n",
    "    gamma2 = cth_param[13: 15]  \n",
    "    mu1 = ml.mu1_est(h, d)\n",
    "    nu1 = ml.nu1_est(h, d, gamma1 = gamma1)\n",
    "    p = ml.prob(h, d, a = a)\n",
    "    mu2 = ml.mu2_est(h, d, ab = ab)\n",
    "    nu2 = ml.nu2_est(h, d, gamma2 = gamma2)\n",
    "    alpha1 = mu1 * nu1\n",
    "    beta1 = nu1 - alpha1\n",
    "    alpha2 = mu2 * nu2\n",
    "    beta2 = nu2 - alpha2\n",
    "        \n",
    "    d2 = np.random.randn(1) * sigma + mu   \n",
    "    \n",
    "    x = np.random.rand(1)\n",
    "    print('mu, nu, alpha, beta', mu1, nu1,alpha1, beta1)\n",
    "#     pdb.set_trace()\n",
    "    y1 = beta.rvs(alpha1, beta1)\n",
    "    y2 = beta.rvs(alpha2, beta2)\n",
    "    u = (x < p)\n",
    "    print('u, y1, y2', u, y1 ,y2)\n",
    "    h2 = ml.UnitInttoCTH(u * y1 + ~u * y2)\n",
    "    \n",
    "    \n",
    "    return h2, d2\n",
    "\n",
    "def sim_model1(steps, cod_param, cth_param,\n",
    "                       init_cond='random', impulse_pos='center'):\n",
    "    \"\"\"Generate the state of an elementary cellular automaton after a pre-determined\n",
    "    number of steps starting from some random state.\n",
    "    Args:\n",
    "        rule_number (int): the number of the update rule to use\n",
    "        size (int): number of cells in the row\n",
    "        steps (int): number of steps to evolve the automaton\n",
    "        init_cond (str): either `random` or `impulse`. If `random` every cell\n",
    "        in the row is activated with prob. 0.5. If `impulse` only one cell\n",
    "        is activated.\n",
    "        impulse_pos (str): if `init_cond` is `impulse`, activate the\n",
    "        left-most, central or right-most cell.\n",
    "    Returns:\n",
    "        np.array: final state of the automaton\n",
    "    \"\"\"\n",
    "\n",
    "    x = np.zeros((steps, 2))\n",
    "    x[0,:] = np.array([1e3, 1])\n",
    "    for i in range(steps - 1):\n",
    "        x[i+1,:] = step(x[i,:], cod_param, cth_param)\n",
    "    return x\n",
    "\n",
    "x = sim_model1(100, model1_cod.coef.values, model1_cth.coef.values)"
   ]
  },
  {
   "cell_type": "code",
   "execution_count": 53,
   "metadata": {},
   "outputs": [
    {
     "ename": "NameError",
     "evalue": "name 'x' is not defined",
     "output_type": "error",
     "traceback": [
      "\u001b[1;31m---------------------------------------------------------------------------\u001b[0m",
      "\u001b[1;31mNameError\u001b[0m                                 Traceback (most recent call last)",
      "\u001b[1;32m<ipython-input-53-6fcf9dfbd479>\u001b[0m in \u001b[0;36m<module>\u001b[1;34m\u001b[0m\n\u001b[1;32m----> 1\u001b[1;33m \u001b[0mx\u001b[0m\u001b[1;33m\u001b[0m\u001b[1;33m\u001b[0m\u001b[0m\n\u001b[0m",
      "\u001b[1;31mNameError\u001b[0m: name 'x' is not defined"
     ]
    }
   ],
   "source": [
    "x\n"
   ]
  }
 ],
 "metadata": {
  "kernelspec": {
   "display_name": "Python 3",
   "language": "python",
   "name": "python3"
  },
  "language_info": {
   "codemirror_mode": {
    "name": "ipython",
    "version": 3
   },
   "file_extension": ".py",
   "mimetype": "text/x-python",
   "name": "python",
   "nbconvert_exporter": "python",
   "pygments_lexer": "ipython3",
   "version": "3.8.3"
  }
 },
 "nbformat": 4,
 "nbformat_minor": 4
}
