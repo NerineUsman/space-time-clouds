{
 "cells": [
  {
   "cell_type": "code",
   "execution_count": 14,
   "metadata": {},
   "outputs": [],
   "source": [
    "import numpy as np\n",
    "import pandas as pd\n",
    "from scipy.stats import norm, beta\n",
    "import matplotlib.pyplot as plt\n",
    "import random\n",
    "\n",
    "import sys\n",
    "sys.path.insert(0, '../lib')\n",
    "sys.path.insert(0, '../src')\n",
    "\n",
    "import ml_estimation as ml\n",
    "import model1_explore as me\n",
    "import model1_plots as mp\n",
    "import Utilities as util"
   ]
  },
  {
   "cell_type": "code",
   "execution_count": 2,
   "metadata": {},
   "outputs": [
    {
     "data": {
      "text/plain": [
       "array([0.32316499, 0.82280272, 0.73142335, 0.89345216, 0.52266417,\n",
       "       0.74195197, 0.53084393, 0.56418753, 0.41639554, 0.72729087])"
      ]
     },
     "execution_count": 2,
     "metadata": {},
     "output_type": "execute_result"
    }
   ],
   "source": [
    "y1 = beta.rvs(3, 2, size = 10)\n",
    "y1"
   ]
  },
  {
   "cell_type": "code",
   "execution_count": 3,
   "metadata": {},
   "outputs": [],
   "source": [
    "# make data set\n",
    "N = 1000\n",
    "\n",
    "def drawMixBeta(N, alpha1, beta1, alpha2, beta2, p, seed = False):\n",
    "    if seed:\n",
    "        np.random.seed(0)\n",
    "    x = np.random.rand(N)\n",
    "    y1 = beta.rvs(alpha1, beta1, size = N)\n",
    "    y2 = beta.rvs(alpha2, beta2, size = N)\n",
    "    u  = (x < p)\n",
    "    return u * y1 + ~u * y2"
   ]
  },
  {
   "cell_type": "code",
   "execution_count": 4,
   "metadata": {},
   "outputs": [
    {
     "data": {
      "text/plain": [
       "<matplotlib.legend.Legend at 0x2a501d03a90>"
      ]
     },
     "execution_count": 4,
     "metadata": {},
     "output_type": "execute_result"
    },
    {
     "data": {
      "image/png": "[encoded data removed]",
      "text/plain": [
       "<Figure size 432x288 with 1 Axes>"
      ]
     },
     "metadata": {
      "needs_background": "light"
     },
     "output_type": "display_data"
    }
   ],
   "source": [
    "param = [ 0.91317788,  50.91077191, 21.52071485,  6.85876098,  0.79635204]\n",
    "N = 10000\n",
    "x = drawMixBeta(N, *param, seed = True)\n",
    "plt.hist(x, bins = 30, density = True, label = 'samples')\n",
    "\n",
    "x_ = np.linspace(0, 1, 100)\n",
    "\n",
    "plt.plot(x_, ml.pdf_bmix(x_, *param), label = 'True distribution')\n",
    "plt.legend()"
   ]
  },
  {
   "cell_type": "code",
   "execution_count": null,
   "metadata": {},
   "outputs": [],
   "source": []
  },
  {
   "cell_type": "markdown",
   "metadata": {},
   "source": [
    "## Maximum likelihood"
   ]
  },
  {
   "cell_type": "code",
   "execution_count": 16,
   "metadata": {},
   "outputs": [
    {
     "name": "stdout",
     "output_type": "stream",
     "text": [
      "[0.91317788, 50.91077191, 21.52071485, 6.85876098, 0.79635204]\n"
     ]
    }
   ],
   "source": [
    "def fitMixBeta(h_):\n",
    "    mu2 = h_.mean()\n",
    "    nu1 = 20\n",
    "    mu1 = 1 - mu2\n",
    "    nu2 = 20\n",
    "    alpha1, beta1, alpha2, beta2 = mu1 * nu1 , nu1 - mu1 * nu1,  mu2 * nu2 , nu2 - mu2 * nu2\n",
    "    start_params = [alpha1, beta1, alpha2, beta2, .2 ]\n",
    "    \n",
    "    ml_manual = ml.MyMixBetaML(h_, h_).fit(disp = 0,\n",
    "                start_params = start_params)\n",
    "    \n",
    "#     params = fixInvalidP(ml_manual.params)\n",
    "#     params = switchBeta(params)\n",
    "#     conv = ml_manual.mle_retvals['converged']\n",
    "    return ml_manual\n",
    "print(param)\n",
    "fit = fitMixBeta(x)"
   ]
  },
  {
   "cell_type": "code",
   "execution_count": 29,
   "metadata": {},
   "outputs": [
    {
     "name": "stdout",
     "output_type": "stream",
     "text": [
      "[20.94339569  6.61495641  0.89657797 50.10455684  0.20129992] [0.01237051 0.9046272  0.66180608 0.20365889 0.00400972]\n"
     ]
    },
    {
     "data": {
      "text/plain": [
       "(array([ 0.89657797, 50.10455684, 20.94339569,  6.61495641,  0.79870008]),\n",
       " array([0.66180608, 0.20365889, 0.01237051, 0.9046272 , 0.00400972]))"
      ]
     },
     "execution_count": 29,
     "metadata": {},
     "output_type": "execute_result"
    }
   ],
   "source": [
    "def fitMixBetaCTHtoParams(fit):\n",
    "    params = me.fixInvalidP(fit.params)\n",
    "    p = params[-1]\n",
    "    params = me.switchBeta(params)\n",
    "    bse = fit.bse\n",
    "    bse[:-1] = me.switchBeta(np.hstack([fit.bse[:-1], p]))[:-1]\n",
    "    return params, bse\n",
    "\n",
    "print(fit.params, fit.bse)\n",
    "fitMixBetaCTHtoParams(fit)"
   ]
  },
  {
   "cell_type": "code",
   "execution_count": null,
   "metadata": {},
   "outputs": [],
   "source": [
    "n = 50\n",
    "coef = np.zeros((n, 5))\n",
    "stderr = np.zeros((n, 5))\n",
    "for i in range(n):\n",
    "    x = drawMixBeta(N, *param)\n",
    "    fit = fitMixBeta(x)\n",
    "    coef[i, :] = fit.params\n",
    "    stderr[i,:] = fit.bse\n",
    "    "
   ]
  },
  {
   "cell_type": "code",
   "execution_count": 9,
   "metadata": {},
   "outputs": [],
   "source": [
    "# np.save('coefML.npy', coef)\n",
    "# np.save('stderr.npy', stderr)\n",
    "\n",
    "coef = np.load('coefML.npy')\n",
    "stderr = np.load('stderr.npy')"
   ]
  },
  {
   "cell_type": "code",
   "execution_count": 10,
   "metadata": {},
   "outputs": [
    {
     "data": {
      "image/png": "[encoded data removed]",
      "text/plain": [
       "<Figure size 432x288 with 1 Axes>"
      ]
     },
     "metadata": {
      "needs_background": "light"
     },
     "output_type": "display_data"
    },
    {
     "data": {
      "text/plain": [
       "<matplotlib.collections.PathCollection at 0x2b1ccf39370>"
      ]
     },
     "execution_count": 10,
     "metadata": {},
     "output_type": "execute_result"
    },
    {
     "data": {
      "image/png": "[encoded data removed]",
      "text/plain": [
       "<Figure size 432x288 with 1 Axes>"
      ]
     },
     "metadata": {
      "needs_background": "light"
     },
     "output_type": "display_data"
    }
   ],
   "source": [
    "plt.hist(coef[:,0])\n",
    "plt.axvline(param[0], color = 'red', label = 'True param')\n",
    "plt.show()\n",
    "plt.scatter(stderr[:,0], coef[:,0] - param[0])\n"
   ]
  },
  {
   "cell_type": "code",
   "execution_count": 11,
   "metadata": {},
   "outputs": [],
   "source": [
    "# dir(fit)\n"
   ]
  },
  {
   "cell_type": "markdown",
   "metadata": {},
   "source": [
    "# Moment of Methods"
   ]
  },
  {
   "cell_type": "markdown",
   "metadata": {},
   "source": []
  },
  {
   "cell_type": "code",
   "execution_count": 81,
   "metadata": {},
   "outputs": [
    {
     "name": "stdout",
     "output_type": "stream",
     "text": [
      "0.99010\t0.99015\t-0.00005\n",
      "0.98039\t0.98049\t-0.00010\n",
      "0.97087\t0.97102\t-0.00015\n",
      "0.96154\t0.96173\t-0.00020\n",
      "0.95238\t0.95262\t-0.00024\n"
     ]
    }
   ],
   "source": [
    "import math\n",
    "def momentBM(n, alpha1, beta1, alpha2, beta2, p ):\n",
    "    m = p * momentBeta(n, alpha1, beta1) + (1-p) * momentBeta(n, alpha2, beta2)\n",
    "    return m\n",
    "\n",
    "def momentBeta(n, alpha, beta):\n",
    "    if n <= 0:\n",
    "        out = 1\n",
    "    else:\n",
    "        out =  momentBeta(n - 1, alpha, beta) * (alpha + n - 1)/(alpha + beta + n - 1)\n",
    "    return out\n",
    "momentBeta(0, 1, 1), 1\n",
    "\n",
    "def func(param):\n",
    "    mom = np.zeros(5)\n",
    "    for i in range(5):\n",
    "        mom[i] = momentBM(i+1, *param)\n",
    "    diff = mom - est    \n",
    "    return np.sum(diff**2)\n",
    "\n",
    "def fitMixBetaMoM(h_):\n",
    "    mu1 = h_.mean()\n",
    "    nu1 = 20\n",
    "    mu2 = 1 - mu1\n",
    "    nu2 = 20\n",
    "    alpha1, beta1, alpha2, beta2 = mu1 * nu1 , nu1 - mu1 * nu1,  mu2 * nu2 , nu2 - mu2 * nu2\n",
    "    start_params = [alpha1, beta1, alpha2, beta2, .8 ]\n",
    "    \n",
    "    ml_manual = opt.minimize(func, start_params, method='TNC', tol=1e-15)\n",
    "    \n",
    "#     params = fixInvalidP(ml_manual.params)\n",
    "#     params = switchBeta(params)\n",
    "#     conv = ml_manual.mle_retvals['converged']\n",
    "    return ml_manual\n",
    "\n",
    "param = [100, 1, 10, 2, 1]\n",
    "\n",
    "x = drawMixBeta(int(1e4), *param, seed = True)\n",
    "\n",
    "n = 5 \n",
    "est = np.zeros(5)\n",
    "for i in range(n):\n",
    "    mom = momentBM(i+1, *param)\n",
    "    est[i] = (x**(i+1)).mean()\n",
    "    print(f'{mom:.5f}\\t{est[i]:.5f}\\t{mom-est[i]:.5f}')\n",
    "\n",
    "import scipy.optimize as opt\n",
    "\n",
    "\n",
    "sol = fitMixBetaMoM(x)\n",
    "sol.x, func(sol.x), sol.success , param - sol.x, param\n",
    "# print(param)\n",
    "sol_ml = fitMixBeta(x)\n"
   ]
  },
  {
   "cell_type": "code",
   "execution_count": 75,
   "metadata": {},
   "outputs": [
    {
     "name": "stdout",
     "output_type": "stream",
     "text": [
      "[100, 1, 10, 2, 1]\n",
      "[19.57293366  0.21409704  1.60241599 20.73143471  1.00138754] False\n",
      "[3.05149605e+01 4.75009377e-01 9.68683528e-03 2.09779928e-08\n",
      " 1.00000000e+00] True\n"
     ]
    },
    {
     "data": {
      "text/plain": [
       "(<class 'statsmodels.iolib.summary.Summary'>\n",
       " \"\"\"\n",
       "                              MyMixBetaML Results                              \n",
       " ==============================================================================\n",
       " Dep. Variable:                      y   Log-Likelihood:                 34304.\n",
       " Model:                    MyMixBetaML   AIC:                        -6.861e+04\n",
       " Method:            Maximum Likelihood   BIC:                        -6.860e+04\n",
       " Date:                Fri, 21 Jan 2022                                         \n",
       " Time:                        11:26:51                                         \n",
       " No. Observations:               10000                                         \n",
       " Df Residuals:                    9999                                         \n",
       " Df Model:                           0                                         \n",
       " ==============================================================================\n",
       "                  coef    std err          z      P>|z|      [0.025      0.975]\n",
       " ------------------------------------------------------------------------------\n",
       " alpha1        30.5150        nan        nan        nan         nan         nan\n",
       " beta1          0.4750        nan        nan        nan         nan         nan\n",
       " alpha2         0.0097        nan        nan        nan         nan         nan\n",
       " beta2       2.098e-08        nan        nan        nan         nan         nan\n",
       " p              1.0000        nan        nan        nan         nan         nan\n",
       " ==============================================================================\n",
       " \"\"\",\n",
       "      fun: 3.3149031624597174e-07\n",
       "      jac: array([ 5.63382742e-11, -3.94201099e-06, -3.05021490e-08,  2.25883551e-09,\n",
       "        -3.18720246e-07])\n",
       "  message: 'Max. number of function evaluations reached'\n",
       "     nfev: 600\n",
       "      nit: 24\n",
       "   status: 3\n",
       "  success: False\n",
       "        x: array([19.57293366,  0.21409704,  1.60241599, 20.73143471,  1.00138754]))"
      ]
     },
     "execution_count": 75,
     "metadata": {},
     "output_type": "execute_result"
    },
    {
     "data": {
      "image/png": "[encoded data removed]",
      "text/plain": [
       "<Figure size 432x288 with 1 Axes>"
      ]
     },
     "metadata": {
      "needs_background": "light"
     },
     "output_type": "display_data"
    }
   ],
   "source": [
    "plt.plot(x_,ml.pdf_bmix(x_, *param), label = \"True\")\n",
    "plt.plot(x_,ml.pdf_bmix(x_, *sol.x), label = \"Mom\")\n",
    "plt.plot(x_,ml.pdf_bmix(x_, *(sol_ml.params)), label = 'ml')\n",
    "plt.legend()\n",
    "\n",
    "print(param)\n",
    "print(sol.x, sol.success)\n",
    "print(sol_ml.params, sol_ml.mle_retvals['converged'])\n",
    "sol_ml.summary(), sol\n",
    "# sol"
   ]
  },
  {
   "cell_type": "code",
   "execution_count": 86,
   "metadata": {},
   "outputs": [
    {
     "name": "stdout",
     "output_type": "stream",
     "text": [
      "100.27338243363727 0.9974620934858935\n"
     ]
    },
    {
     "data": {
      "text/plain": [
       "(100.27338243363727, 0.9974620934858935)"
      ]
     },
     "execution_count": 86,
     "metadata": {},
     "output_type": "execute_result"
    }
   ],
   "source": [
    "m1 = x.mean()\n",
    "m2 = (x**2).mean()\n",
    "print(alpha(m1, m2), beta(m1, m2))\n",
    "MoM_sb(x)"
   ]
  },
  {
   "cell_type": "code",
   "execution_count": 85,
   "metadata": {},
   "outputs": [
    {
     "name": "stdout",
     "output_type": "stream",
     "text": [
      "0.9900990099009901 0.9803921568627452\n",
      "99.99999999986731 0.9999999999986872\n"
     ]
    }
   ],
   "source": [
    "def m1(alpha, beta):\n",
    "    return alpha/(alpha+beta)\n",
    "def m2(alpha, beta):\n",
    "    return m1(alpha, beta) * m1(alpha + 1, beta)\n",
    "\n",
    "alpha, beta = 100,1\n",
    "m1, m2 = m1(alpha, beta), m2(alpha, beta)\n",
    "print(m1, m2)\n",
    "\n",
    "def MoM_sb(x):\n",
    "    m1 = x.mean()\n",
    "    m2 = (x**2).mean()\n",
    "    alpha = m1 * (m1 - m2) /(m2 - m1**2)\n",
    "    beta = (m1/m2 - 1) * (alpha +1)\n",
    "    return alpha , beta\n",
    "\n",
    "def alpha(m1, m2):\n",
    "    return m1 * (m1 - m2) /(m2 - m1**2)\n",
    "    \n",
    "def beta(m1, m2):\n",
    "    return (m1/m2 - 1) * (alpha(m1, m2) +1)\n",
    "print(alpha(m1, m2), beta(m1, m2))"
   ]
  }
 ],
 "metadata": {
  "kernelspec": {
   "display_name": "Python 3",
   "language": "python",
   "name": "python3"
  },
  "language_info": {
   "codemirror_mode": {
    "name": "ipython",
    "version": 3
   },
   "file_extension": ".py",
   "mimetype": "text/x-python",
   "name": "python",
   "nbconvert_exporter": "python",
   "pygments_lexer": "ipython3",
   "version": "3.8.3"
  }
 },
 "nbformat": 4,
 "nbformat_minor": 4
}
